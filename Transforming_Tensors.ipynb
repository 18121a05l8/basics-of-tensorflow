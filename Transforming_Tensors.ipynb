{
  "nbformat": 4,
  "nbformat_minor": 0,
  "metadata": {
    "colab": {
      "name": "Transforming Tensors.ipynb",
      "provenance": [],
      "authorship_tag": "ABX9TyMWeKlCnMHN58qFe/xC3iee",
      "include_colab_link": true
    },
    "kernelspec": {
      "name": "python3",
      "display_name": "Python 3"
    },
    "language_info": {
      "name": "python"
    }
  },
  "cells": [
    {
      "cell_type": "markdown",
      "metadata": {
        "id": "view-in-github",
        "colab_type": "text"
      },
      "source": [
        "<a href=\"https://colab.research.google.com/github/18121a05l8/basics-of-tensorflow/blob/main/Transforming_Tensors.ipynb\" target=\"_parent\"><img src=\"https://colab.research.google.com/assets/colab-badge.svg\" alt=\"Open In Colab\"/></a>"
      ]
    },
    {
      "cell_type": "code",
      "execution_count": 3,
      "metadata": {
        "id": "RiGmcC0iJxAJ"
      },
      "outputs": [],
      "source": [
        "from __future__ import absolute_import\n",
        "from __future__ import division\n",
        "from __future__ import print_function\n",
        "\n",
        "import tensorflow as tf\n",
        "\n"
      ]
    },
    {
      "cell_type": "code",
      "source": [
        "vec = tf.constant([1., 2., 3., 4.])\n",
        "mat = tf.reshape(vec, [2, 2])\n",
        "\n",
        "print(mat)"
      ],
      "metadata": {
        "colab": {
          "base_uri": "https://localhost:8080/"
        },
        "id": "EadLMAwvJ32i",
        "outputId": "f3b21aed-b0ad-4742-e670-e4a8d2f77479"
      },
      "execution_count": 5,
      "outputs": [
        {
          "output_type": "stream",
          "name": "stdout",
          "text": [
            "tf.Tensor(\n",
            "[[1. 2.]\n",
            " [3. 4.]], shape=(2, 2), dtype=float32)\n"
          ]
        }
      ]
    },
    {
      "cell_type": "code",
      "source": [
        "ten=tf.random.normal([2,3,4],2,1)\n",
        "print(ten)\n",
        "print(tf.slice(ten,[0,1,2],[2,2,2]))"
      ],
      "metadata": {
        "colab": {
          "base_uri": "https://localhost:8080/"
        },
        "id": "Q9Z-UaFnJ-7P",
        "outputId": "797b92eb-7b87-47e9-f177-bb3d67fcfdd2"
      },
      "execution_count": 9,
      "outputs": [
        {
          "output_type": "stream",
          "name": "stdout",
          "text": [
            "tf.Tensor(\n",
            "[[[2.9423957  4.7206674  3.2601018  2.7320113 ]\n",
            "  [2.1281607  1.6669947  2.901515   1.6595201 ]\n",
            "  [2.7076738  0.95358074 2.1499686  1.4508619 ]]\n",
            "\n",
            " [[1.9804631  2.9680622  1.5422122  1.0141459 ]\n",
            "  [0.80276895 2.155648   1.0007138  1.9405538 ]\n",
            "  [2.7656565  0.72714114 1.1914117  2.1926713 ]]], shape=(2, 3, 4), dtype=float32)\n",
            "tf.Tensor(\n",
            "[[[2.901515  1.6595201]\n",
            "  [2.1499686 1.4508619]]\n",
            "\n",
            " [[1.0007138 1.9405538]\n",
            "  [1.1914117 2.1926713]]], shape=(2, 2, 2), dtype=float32)\n"
          ]
        }
      ]
    },
    {
      "cell_type": "code",
      "source": [
        "num=tf.random.normal([3,3],1,4)\n",
        "print(num)"
      ],
      "metadata": {
        "colab": {
          "base_uri": "https://localhost:8080/"
        },
        "id": "4KB6QUZ5Kl9q",
        "outputId": "93e35a51-7b8e-47d1-c5e3-2542e0cb9d5f"
      },
      "execution_count": 11,
      "outputs": [
        {
          "output_type": "stream",
          "name": "stdout",
          "text": [
            "tf.Tensor(\n",
            "[[-2.362496   -4.890255    2.9385462 ]\n",
            " [ 4.019184    3.0430489   4.332127  ]\n",
            " [ 5.849952   -0.26196933  4.8573236 ]], shape=(3, 3), dtype=float32)\n"
          ]
        }
      ]
    },
    {
      "cell_type": "code",
      "source": [
        "print(tf.slice(num,[0,1],[3,2]))"
      ],
      "metadata": {
        "colab": {
          "base_uri": "https://localhost:8080/"
        },
        "id": "_gpAZQR5LZK6",
        "outputId": "1de4572f-d877-45cb-9a59-1a88f7108409"
      },
      "execution_count": 12,
      "outputs": [
        {
          "output_type": "stream",
          "name": "stdout",
          "text": [
            "tf.Tensor(\n",
            "[[-4.890255    2.9385462 ]\n",
            " [ 3.0430489   4.332127  ]\n",
            " [-0.26196933  4.8573236 ]], shape=(3, 2), dtype=float32)\n"
          ]
        }
      ]
    },
    {
      "cell_type": "code",
      "source": [
        "tensor1=tf.fill([3,3],0)\n",
        "tensor2=tf.fill([3,3],1)\n",
        "tensor3=tf.fill([3,3],2)\n",
        "st=tf.stack([tensor1,tensor2,tensor3],axis=1)\n",
        "print(st)\n"
      ],
      "metadata": {
        "colab": {
          "base_uri": "https://localhost:8080/"
        },
        "id": "Afu6pslZLuEB",
        "outputId": "834ae881-73f0-4cf5-abad-a560d031d8fd"
      },
      "execution_count": 28,
      "outputs": [
        {
          "output_type": "stream",
          "name": "stdout",
          "text": [
            "tf.Tensor(\n",
            "[[[0 0 0]\n",
            "  [1 1 1]\n",
            "  [2 2 2]]\n",
            "\n",
            " [[0 0 0]\n",
            "  [1 1 1]\n",
            "  [2 2 2]]\n",
            "\n",
            " [[0 0 0]\n",
            "  [1 1 1]\n",
            "  [2 2 2]]], shape=(3, 3, 3), dtype=int32)\n"
          ]
        }
      ]
    },
    {
      "cell_type": "code",
      "source": [
        "print(tf.unstack(st,axis=1))"
      ],
      "metadata": {
        "colab": {
          "base_uri": "https://localhost:8080/"
        },
        "id": "n8SoohQYMUzi",
        "outputId": "09c03064-f89e-4db5-f8e4-a485f6432223"
      },
      "execution_count": 27,
      "outputs": [
        {
          "output_type": "stream",
          "name": "stdout",
          "text": [
            "[<tf.Tensor: shape=(3, 3), dtype=int32, numpy=\n",
            "array([[0, 0, 0],\n",
            "       [0, 0, 0],\n",
            "       [0, 0, 0]], dtype=int32)>, <tf.Tensor: shape=(3, 3), dtype=int32, numpy=\n",
            "array([[1, 1, 1],\n",
            "       [1, 1, 1],\n",
            "       [1, 1, 1]], dtype=int32)>, <tf.Tensor: shape=(3, 3), dtype=int32, numpy=\n",
            "array([[2, 2, 2],\n",
            "       [2, 2, 2],\n",
            "       [2, 2, 2]], dtype=int32)>]\n"
          ]
        }
      ]
    },
    {
      "cell_type": "code",
      "source": [
        ""
      ],
      "metadata": {
        "id": "UT3Ku5StPMe-"
      },
      "execution_count": null,
      "outputs": []
    }
  ]
}